{
 "cells": [
  {
   "cell_type": "code",
   "execution_count": 1,
   "metadata": {},
   "outputs": [
    {
     "name": "stdout",
     "output_type": "stream",
     "text": [
      "- Test 1:\n",
      "Input: nums = [-10, -3, 0, 5, 9]\n",
      "Iterative Output: 0 -3 -10 9 5 \n",
      "Recursive Output: 0 -3 -10 9 5 \n",
      "      _0__\n",
      "     /    \\\n",
      "   _-3     9\n",
      "  /       /\n",
      "-10      5\n",
      "\n",
      "- Test 2:\n",
      "Input: nums = [1, 3]\n",
      "Iterative Output: 3 1 \n",
      "Recursive Output: 3 1 \n",
      "  3\n",
      " /\n",
      "1\n",
      "\n",
      "- Test 3:\n",
      "Input: nums = [1]\n",
      "Iterative Output: 1 \n",
      "Recursive Output: 1 \n",
      "1\n",
      "\n",
      "- Test 4:\n",
      "Input: nums = [1, 2, 3, 4, 5]\n",
      "Iterative Output: 3 2 1 5 4 \n",
      "Recursive Output: 3 2 1 5 4 \n",
      "    3__\n",
      "   /   \\\n",
      "  2     5\n",
      " /     /\n",
      "1     4\n",
      "\n",
      "- Test 5:\n",
      "Input: nums = []\n",
      "Iterative Output: []\n",
      "\n",
      "Recursive Output: []\n",
      "\n",
      "None\n",
      "- Test 6:\n",
      "Input: nums = [1, 2, 3]\n",
      "Iterative Output: 2 1 3 \n",
      "Recursive Output: 2 1 3 \n",
      "  2\n",
      " / \\\n",
      "1   3\n",
      "\n"
     ]
    }
   ],
   "source": [
    "import tests.tests_binary_tree as tests\n",
    "\n",
    "#Run Tests\n",
    "tests.run_tests()"
   ]
  },
  {
   "attachments": {},
   "cell_type": "markdown",
   "metadata": {},
   "source": [
    "# Time Complexity\n",
    "The time complexity of the solution is O(N log N).\n",
    "\n",
    "#  Space Complexity\n",
    "Since we have created the binary tree the space complexity will be O(N)."
   ]
  }
 ],
 "metadata": {
  "kernelspec": {
   "display_name": "Python 3.6.7 64-bit",
   "language": "python",
   "name": "python3"
  },
  "language_info": {
   "codemirror_mode": {
    "name": "ipython",
    "version": 3
   },
   "file_extension": ".py",
   "mimetype": "text/x-python",
   "name": "python",
   "nbconvert_exporter": "python",
   "pygments_lexer": "ipython3",
   "version": "3.9.6"
  },
  "orig_nbformat": 4,
  "vscode": {
   "interpreter": {
    "hash": "aee8b7b246df8f9039afb4144a1f6fd8d2ca17a180786b69acc140d282b71a49"
   }
  }
 },
 "nbformat": 4,
 "nbformat_minor": 2
}
